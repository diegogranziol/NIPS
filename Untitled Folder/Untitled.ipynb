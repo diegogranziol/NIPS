{
 "cells": [
  {
   "cell_type": "code",
   "execution_count": 2,
   "metadata": {
    "collapsed": true
   },
   "outputs": [],
   "source": [
    "from scipy import io\n",
    "from scipy import sparse\n",
    "from scipy import special\n",
    "from scipy import linalg\n",
    "from scipy import stats\n",
    "import scipy as sp\n",
    "import numpy as np\n",
    "from time import time\n",
    "import matplotlib.pylab as plt\n",
    "from scipy.sparse import csr_matrix\n",
    "import pylab as pb\n",
    "import GPy\n",
    "import math\n",
    "import matplotlib.mlab as mlab\n",
    "from scipy.optimize import minimize"
   ]
  },
  {
   "cell_type": "code",
   "execution_count": 1,
   "metadata": {},
   "outputs": [
    {
     "ename": "NameError",
     "evalue": "name 'GPy' is not defined",
     "output_type": "error",
     "traceback": [
      "\u001b[0;31m---------------------------------------------------------------------------\u001b[0m",
      "\u001b[0;31mNameError\u001b[0m                                 Traceback (most recent call last)",
      "\u001b[0;32m<ipython-input-1-20bac28b42e4>\u001b[0m in \u001b[0;36m<module>\u001b[0;34m()\u001b[0m\n\u001b[1;32m      6\u001b[0m \u001b[0;31m#Squared Exponential or Matern\u001b[0m\u001b[0;34m\u001b[0m\u001b[0;34m\u001b[0m\u001b[0m\n\u001b[1;32m      7\u001b[0m \u001b[0;34m\u001b[0m\u001b[0m\n\u001b[0;32m----> 8\u001b[0;31m \u001b[0mk\u001b[0m \u001b[0;34m=\u001b[0m \u001b[0mGPy\u001b[0m\u001b[0;34m.\u001b[0m\u001b[0mkern\u001b[0m\u001b[0;34m.\u001b[0m\u001b[0mRBF\u001b[0m\u001b[0;34m(\u001b[0m\u001b[0minput_dim\u001b[0m\u001b[0;34m=\u001b[0m\u001b[0minp\u001b[0m\u001b[0;34m,\u001b[0m \u001b[0mARD\u001b[0m\u001b[0;34m=\u001b[0m\u001b[0mTrue\u001b[0m\u001b[0;34m,\u001b[0m \u001b[0mvariance\u001b[0m\u001b[0;34m=\u001b[0m\u001b[0;36m1\u001b[0m\u001b[0;34m,\u001b[0m \u001b[0mlengthscale\u001b[0m\u001b[0;34m=\u001b[0m\u001b[0;36m0.15\u001b[0m\u001b[0;34m*\u001b[0m\u001b[0mnp\u001b[0m\u001b[0;34m.\u001b[0m\u001b[0mones\u001b[0m\u001b[0;34m(\u001b[0m\u001b[0minp\u001b[0m\u001b[0;34m)\u001b[0m\u001b[0;34m)\u001b[0m\u001b[0;34m\u001b[0m\u001b[0m\n\u001b[0m\u001b[1;32m      9\u001b[0m \u001b[0;31m#k = GPy.kern.Matern32( input_dim = inp, ARD = True, variance = 1, lengthscale = 0.66*np.ones(inp))\u001b[0m\u001b[0;34m\u001b[0m\u001b[0;34m\u001b[0m\u001b[0m\n\u001b[1;32m     10\u001b[0m \u001b[0;34m\u001b[0m\u001b[0m\n",
      "\u001b[0;31mNameError\u001b[0m: name 'GPy' is not defined"
     ]
    }
   ],
   "source": [
    "#Covariance Matrix Kernel\n",
    "nmat = 2000\n",
    "#k = GPy.kern.Brownian(input_dim=1)\n",
    "inp = 6;\n",
    "\n",
    "#Squared Exponential or Matern\n",
    "\n",
    "k = GPy.kern.RBF(input_dim=inp, ARD=True, variance=1, lengthscale=0.15*np.ones(inp))\n",
    "#k = GPy.kern.Matern32( input_dim = inp, ARD = True, variance = 1, lengthscale = 0.66*np.ones(inp))\n",
    "\n",
    "#k = GPy.kern.src.sde_linear(input_dim=inp, variances=1, ARD=False, active_dims=inp, name='linear')\n",
    "#GPy.kern.Brownian(input_dim=1)\n",
    "#k = GPy.kern.src.rbf(input_dim=1,variance=0.2)\n",
    "X = np.random.rand(nmat,inp)\n",
    "# 50*2 matrix of iid standard Gaussians\n",
    "M = k.K(X,X)\n",
    "M = M + 1e-8*np.eye(nmat)\n",
    "print 'stage 1 completed'\n",
    "eig = np.linalg.eigvals(M)\n",
    "orgdet = np.linalg.det(M)\n",
    "\n",
    "#try leaving to infinity for the calculation to work\n",
    "norm = max(sum(abs(M)))\n",
    "#norm=1\n",
    "\n",
    "M = M/norm\n",
    "neweig = eig/norm\n",
    "\n",
    "m = 5;\n",
    "mu = []\n",
    "for i in range(0,m):\n",
    "    q = sum(neweig**i)/nmat\n",
    "    mu.append(q)\n",
    "answer = np.trace(np.linalg.inv(M))\n",
    "print answer\n",
    "cond = (max(eig)/min(eig))\n",
    "print 'condition number'\n",
    "print cond\n",
    "ldet = sum(np.log(neweig))\n",
    "print 'log det'\n",
    "print ldet"
   ]
  },
  {
   "cell_type": "code",
   "execution_count": 2,
   "metadata": {},
   "outputs": [],
   "source": [
    "#!/usr/bin/env python3\n",
    "# -*- coding: utf-8 -*-\n",
    "\"\"\"\n",
    "Created on Mon Apr  9 22:36:06 2018\n",
    "\n",
    "@author: binxinru\n",
    "\"\"\"\n",
    "\n",
    "\n",
    "import numpy as np\n",
    "import scipy as sp\n",
    "from scipy import stats,io\n",
    "\n",
    "def normpdf_python(x, mu, sigma):\n",
    "    mu = np.atleast_2d(mu)\n",
    "    x2  = np.atleast_2d(x)\n",
    "    '''if input x is size 1xN , mu is size 1xM, output is size NxM'''\n",
    "    y = 1/( sigma * np.sqrt(2 * np.pi) ) * np.exp( -(np.subtract(mu.T,x2)**2)/(2 * sigma **2) )\n",
    "    return y\n",
    "\n",
    "def Lanczos_Approx(m,C):\n",
    "    ''' m is the number of steps for Lanczos\n",
    "    C is the target matrix '''\n",
    "\n",
    "    gridLength = 1e4+1\n",
    "    std    = 1e-3\n",
    "    #% Loop through different number of moments/steps\n",
    "    nvecs = 10\n",
    "    nmat = C.shape[0]\n",
    "    Lanczos_eig = np.zeros((nvecs,m))\n",
    "    Lanczos_eigvetors = np.zeros((nvecs,m))\n",
    "    Lanczos_approx = np.zeros((nvecs,int(gridLength)))\n",
    "    #% Lanczos Method\n",
    "    for j in range(nvecs):\n",
    "        print('nvecs=' +str(j)+'; step=' + str(m))\n",
    "        # Use Lanczos to find m largest eigvalues and eigvectors of input matrix C\n",
    "        eigvalue,eigvec = sp.sparse.linalg.eigsh(C, k = m)\n",
    "        x      = np.linspace(min(eigvalue),max(eigvalue),gridLength)\n",
    "        gamma2  = eigvec[1,:]**2.0\n",
    "        # gamma have size 1 x m \n",
    "        gamma2  = np.atleast_2d(gamma2)\n",
    "        # Grid_Matrix have size m x gridLength: \n",
    "        # x is an array 1 x gridLength; eigvalue is an array 1 x m\n",
    "        Grid_Matrix = normpdf_python(x,eigvalue, std) \n",
    "        Approx_i = gamma2.dot( Grid_Matrix ) /nmat\n",
    "        # store all the eigvalues and eigvectors\n",
    "        Lanczos_eig[j,:]    = eigvalue\n",
    "        Lanczos_eigvetors[j,:]    = gamma2.flatten()\n",
    "        Lanczos_approx[j,:] = Approx_i\n",
    "        \n",
    "    Approx_Lanczos = np.mean(Lanczos_approx,axis=0)\n",
    "    \n",
    "    # save eigvalues, eigvectors by Lanczos and distribution \n",
    "    sp.io.savemat('Lanczos_eig_m='+str(m)+'.mat',mdict={'Lanczos_eig':Lanczos_eig}) \n",
    "    sp.io.savemat('Lanczos_eigvetors_m='+str(m)+'.mat',mdict={'Lanczos_eigvetors':Lanczos_eigvetors}) \n",
    "    sp.io.savemat('Approxi_Lanczos_m='+str(m)+'.mat',mdict={'Approx_Lanczos':Approx_Lanczos}) \n",
    "\n",
    "    return Approx_Lanczos\n",
    "\n",
    "\n",
    "#%% Lanczos Approximation at specific steps \n"
   ]
  },
  {
   "cell_type": "code",
   "execution_count": 8,
   "metadata": {},
   "outputs": [
    {
     "name": "stdout",
     "output_type": "stream",
     "text": [
      "nvecs=0; step=10\n",
      "nvecs=1; step=10\n",
      "nvecs=2; step=10\n",
      "nvecs=3; step=10\n",
      "nvecs=4; step=10\n",
      "nvecs=5; step=10\n",
      "nvecs=6; step=10\n",
      "nvecs=7; step=10\n",
      "nvecs=8; step=10\n",
      "nvecs=9; step=10\n"
     ]
    }
   ],
   "source": [
    "u = Lanczos_Approx(10, M)"
   ]
  },
  {
   "cell_type": "code",
   "execution_count": 9,
   "metadata": {},
   "outputs": [
    {
     "name": "stdout",
     "output_type": "stream",
     "text": [
      "[0.00025272 0.0002527  0.00025262 ... 0.0001004  0.00010043 0.00010044]\n"
     ]
    }
   ],
   "source": [
    "print u"
   ]
  },
  {
   "cell_type": "code",
   "execution_count": null,
   "metadata": {
    "collapsed": true
   },
   "outputs": [],
   "source": []
  }
 ],
 "metadata": {
  "kernelspec": {
   "display_name": "Python 2",
   "language": "python",
   "name": "python2"
  },
  "language_info": {
   "codemirror_mode": {
    "name": "ipython",
    "version": 2
   },
   "file_extension": ".py",
   "mimetype": "text/x-python",
   "name": "python",
   "nbconvert_exporter": "python",
   "pygments_lexer": "ipython2",
   "version": "2.7.14"
  }
 },
 "nbformat": 4,
 "nbformat_minor": 2
}
