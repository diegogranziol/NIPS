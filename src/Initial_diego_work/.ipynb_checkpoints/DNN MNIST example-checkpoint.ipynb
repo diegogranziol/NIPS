{
 "cells": [
  {
   "cell_type": "code",
   "execution_count": 2,
   "metadata": {},
   "outputs": [
    {
     "name": "stderr",
     "output_type": "stream",
     "text": [
      "Using TensorFlow backend.\n"
     ]
    }
   ],
   "source": [
    "from __future__ import print_function\n",
    "\n",
    "import keras\n",
    "from keras.datasets import mnist\n",
    "from keras.models import Sequential\n",
    "from keras.layers import Dense, Dropout\n",
    "from keras.optimizers import RMSprop\n",
    "#from keras.optimizers import adam\n",
    "import tensorflow as tf"
   ]
  },
  {
   "cell_type": "code",
   "execution_count": 5,
   "metadata": {},
   "outputs": [],
   "source": [
    "from AMSGrad import AMSGrad\n",
    "  \n",
    "train_op = AMSGrad(learning_rate=0.01, beta1=0.9, beta2=0.99, epsilon=1e-8).minimize(loss)"
   ]
  },
  {
   "cell_type": "code",
   "execution_count": 6,
   "metadata": {},
   "outputs": [
    {
     "name": "stdout",
     "output_type": "stream",
     "text": [
      "60000 train samples\n",
      "10000 test samples\n",
      "_________________________________________________________________\n",
      "Layer (type)                 Output Shape              Param #   \n",
      "=================================================================\n",
      "dense_1 (Dense)              (None, 512)               401920    \n",
      "_________________________________________________________________\n",
      "dropout_1 (Dropout)          (None, 512)               0         \n",
      "_________________________________________________________________\n",
      "dense_2 (Dense)              (None, 512)               262656    \n",
      "_________________________________________________________________\n",
      "dropout_2 (Dropout)          (None, 512)               0         \n",
      "_________________________________________________________________\n",
      "dense_3 (Dense)              (None, 10)                5130      \n",
      "=================================================================\n",
      "Total params: 669,706\n",
      "Trainable params: 669,706\n",
      "Non-trainable params: 0\n",
      "_________________________________________________________________\n",
      "Train on 60000 samples, validate on 10000 samples\n",
      "Epoch 1/20\n",
      "60000/60000 [==============================] - 5s 80us/step - loss: 0.3253 - acc: 0.9077 - val_loss: 0.1721 - val_acc: 0.9496\n",
      "Epoch 2/20\n",
      "60000/60000 [==============================] - 5s 86us/step - loss: 0.1763 - acc: 0.9491 - val_loss: 0.1350 - val_acc: 0.9598\n",
      "Epoch 3/20\n",
      "60000/60000 [==============================] - 6s 93us/step - loss: 0.1543 - acc: 0.9548 - val_loss: 0.1101 - val_acc: 0.9688\n",
      "Epoch 4/20\n",
      "60000/60000 [==============================] - 6s 96us/step - loss: 0.1291 - acc: 0.9631 - val_loss: 0.1052 - val_acc: 0.9717\n",
      "Epoch 5/20\n",
      "60000/60000 [==============================] - 6s 107us/step - loss: 0.1195 - acc: 0.9650 - val_loss: 0.0960 - val_acc: 0.9715\n",
      "Epoch 6/20\n",
      "60000/60000 [==============================] - 7s 117us/step - loss: 0.1038 - acc: 0.9699 - val_loss: 0.1062 - val_acc: 0.9714\n",
      "Epoch 7/20\n",
      "60000/60000 [==============================] - 7s 123us/step - loss: 0.1020 - acc: 0.9707 - val_loss: 0.0977 - val_acc: 0.9719\n",
      "Epoch 8/20\n",
      "60000/60000 [==============================] - 10s 159us/step - loss: 0.0885 - acc: 0.9735 - val_loss: 0.1011 - val_acc: 0.9732\n",
      "Epoch 9/20\n",
      "60000/60000 [==============================] - 8s 127us/step - loss: 0.0827 - acc: 0.9760 - val_loss: 0.1008 - val_acc: 0.9735\n",
      "Epoch 10/20\n",
      "60000/60000 [==============================] - 7s 120us/step - loss: 0.0821 - acc: 0.9757 - val_loss: 0.0945 - val_acc: 0.9752\n",
      "Epoch 11/20\n",
      "60000/60000 [==============================] - 8s 127us/step - loss: 0.0806 - acc: 0.9767 - val_loss: 0.1009 - val_acc: 0.9763\n",
      "Epoch 12/20\n",
      "60000/60000 [==============================] - 9s 150us/step - loss: 0.0740 - acc: 0.9781 - val_loss: 0.0988 - val_acc: 0.9777\n",
      "Epoch 13/20\n",
      "60000/60000 [==============================] - 8s 139us/step - loss: 0.0764 - acc: 0.9780 - val_loss: 0.1099 - val_acc: 0.9746\n",
      "Epoch 14/20\n",
      "60000/60000 [==============================] - 8s 135us/step - loss: 0.0687 - acc: 0.9797 - val_loss: 0.0966 - val_acc: 0.9756\n",
      "Epoch 15/20\n",
      "60000/60000 [==============================] - 8s 129us/step - loss: 0.0661 - acc: 0.9812 - val_loss: 0.0928 - val_acc: 0.9772\n",
      "Epoch 16/20\n",
      "60000/60000 [==============================] - 9s 143us/step - loss: 0.0664 - acc: 0.9810 - val_loss: 0.0965 - val_acc: 0.9759\n",
      "Epoch 17/20\n",
      "60000/60000 [==============================] - 10s 165us/step - loss: 0.0596 - acc: 0.9823 - val_loss: 0.1005 - val_acc: 0.9761\n",
      "Epoch 18/20\n",
      "60000/60000 [==============================] - 11s 180us/step - loss: 0.0618 - acc: 0.9822 - val_loss: 0.0959 - val_acc: 0.9789\n",
      "Epoch 19/20\n",
      "60000/60000 [==============================] - 14s 227us/step - loss: 0.0573 - acc: 0.9836 - val_loss: 0.1055 - val_acc: 0.9778\n",
      "Epoch 20/20\n",
      "60000/60000 [==============================] - 14s 228us/step - loss: 0.0547 - acc: 0.9844 - val_loss: 0.0945 - val_acc: 0.9792\n",
      "Test loss: 0.0945101193408\n",
      "Test accuracy: 0.9792\n"
     ]
    }
   ],
   "source": [
    "\n",
    "batch_size = 128\n",
    "num_classes = 10\n",
    "epochs = 20\n",
    "\n",
    "# the data, split between train and test sets\n",
    "(x_train, y_train), (x_test, y_test) = mnist.load_data()\n",
    "\n",
    "x_train = x_train.reshape(60000, 784)\n",
    "x_test = x_test.reshape(10000, 784)\n",
    "x_train = x_train.astype('float32')\n",
    "x_test = x_test.astype('float32')\n",
    "x_train /= 255\n",
    "x_test /= 255\n",
    "print(x_train.shape[0], 'train samples')\n",
    "print(x_test.shape[0], 'test samples')\n",
    "\n",
    "# convert class vectors to binary class matrices\n",
    "y_train = keras.utils.to_categorical(y_train, num_classes)\n",
    "y_test = keras.utils.to_categorical(y_test, num_classes)\n",
    "\n",
    "model = Sequential()\n",
    "model.add(Dense(512, activation='relu', input_shape=(784,)))\n",
    "model.add(Dropout(0.2))\n",
    "model.add(Dense(512, activation='relu'))\n",
    "model.add(Dropout(0.2))\n",
    "model.add(Dense(num_classes, activation='softmax'))\n",
    "\n",
    "model.summary()\n",
    "\n",
    "model.compile(loss='categorical_crossentropy',\n",
    "              optimizer=AMSGrad(),\n",
    "              metrics=['accuracy'])\n",
    "\n",
    "history = model.fit(x_train, y_train,\n",
    "                    batch_size=batch_size,\n",
    "                    epochs=epochs,\n",
    "                    verbose=1,\n",
    "                    validation_data=(x_test, y_test))\n",
    "score = model.evaluate(x_test, y_test, verbose=0)\n",
    "print('Test loss:', score[0])\n",
    "print('Test accuracy:', score[1])"
   ]
  },
  {
   "cell_type": "code",
   "execution_count": null,
   "metadata": {},
   "outputs": [],
   "source": []
  }
 ],
 "metadata": {
  "kernelspec": {
   "display_name": "Python 2",
   "language": "python",
   "name": "python2"
  },
  "language_info": {
   "codemirror_mode": {
    "name": "ipython",
    "version": 2
   },
   "file_extension": ".py",
   "mimetype": "text/x-python",
   "name": "python",
   "nbconvert_exporter": "python",
   "pygments_lexer": "ipython2",
   "version": "2.7.14"
  }
 },
 "nbformat": 4,
 "nbformat_minor": 2
}
