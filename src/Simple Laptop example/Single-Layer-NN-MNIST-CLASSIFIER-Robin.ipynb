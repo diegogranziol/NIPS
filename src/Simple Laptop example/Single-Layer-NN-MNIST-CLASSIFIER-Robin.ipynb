{
 "cells": [
  {
   "cell_type": "markdown",
   "metadata": {},
   "source": [
    "# Single Layer NN using TensorFlow\n",
    "The following code classifies MNIST dataset using a single layer NN with softmax activation function, Cross entropy loss function and Mini-batch Technique\n",
    "\n",
    "## Softmax Function\n",
    "$$\n",
    "\\sigma(z){_j} = \\frac{e^{z_j}}{\\sum_{k=1}^{K}e^{z_j}}\n",
    "$$\n",
    "\n",
    "## Cross Entropy\n",
    "$$\n",
    "Cross Entropy = -{\\sum_{i=1}^{i=n}Y_{i}^{'}.\\log(Y^i)}\n",
    "$$\n",
    "\n",
    "## Mini-batch Technique\n",
    "Taking a btach of 100 images in a single iteration. 2 Reasons to use it:\n",
    "1. Analyzing Single image results in a curvy descent. Knowledge of 100 images at a single time gives a more precise consensus of the gradient\n",
    "2. We do distributed processing using GPUs on which matrix multiplications works faster. (Optimised for GPUs)"
   ]
  },
  {
   "cell_type": "code",
   "execution_count": 1,
   "metadata": {},
   "outputs": [
    {
     "name": "stderr",
     "output_type": "stream",
     "text": [
      "/Users/binxinru/anaconda3/lib/python3.6/site-packages/h5py/__init__.py:34: FutureWarning: Conversion of the second argument of issubdtype from `float` to `np.floating` is deprecated. In future, it will be treated as `np.float64 == np.dtype(float).type`.\n",
      "  from ._conv import register_converters as _register_converters\n"
     ]
    }
   ],
   "source": [
    "import os\n",
    "os.environ['TF_CPP_MIN_LOG_LEVEL']='2'\n",
    "import tensorflow as tf\n",
    "import matplotlib.pyplot as plt\n",
    "import matplotlib.patches as mpatches\n",
    "%matplotlib inline\n",
    "import numpy as np\n",
    "import scipy as sp\n"
   ]
  },
  {
   "cell_type": "markdown",
   "metadata": {},
   "source": [
    "## Functions defined by Matt to compute Hessian "
   ]
  },
  {
   "cell_type": "code",
   "execution_count": 2,
   "metadata": {
    "collapsed": true
   },
   "outputs": [],
   "source": [
    "def jacobian_piece(vect, parameters, index):\n",
    "  dfx_i = tf.slice(vect, begin=[index,0] , size=[1,1])\n",
    "  ddfx_i = tf.gradients(dfx_i, parameters)[0] \n",
    "  return ddfx_i\n",
    "\n",
    "def jacobian(y_flat, x):\n",
    "    n = y_flat.shape[0]\n",
    "    #\n",
    "    loop_vars = [\n",
    "        tf.constant(0, tf.int32),\n",
    "        tf.TensorArray(tf.float32, size=n),\n",
    "    ]\n",
    "    #\n",
    "    _, jacobian = tf.while_loop(\n",
    "        lambda j, _: j < n,\n",
    "        lambda j, result: (j+1, result.write(j, jacobian_piece(y_flat, x, j))),\n",
    "        loop_vars,swap_memory=True)\n",
    "    #\n",
    "    return jacobian.stack()"
   ]
  },
  {
   "cell_type": "markdown",
   "metadata": {},
   "source": [
    "## Load Data\n",
    "MNIST dataset is a handwritten numbers dataset. We download it from tensorflow examples.<br/>\n",
    "Make sure to change the path according to your need"
   ]
  },
  {
   "cell_type": "code",
   "execution_count": 3,
   "metadata": {},
   "outputs": [
    {
     "name": "stdout",
     "output_type": "stream",
     "text": [
      "WARNING:tensorflow:From /Users/binxinru/anaconda3/lib/python3.6/site-packages/tensorflow/contrib/learn/python/learn/datasets/base.py:198: retry (from tensorflow.contrib.learn.python.learn.datasets.base) is deprecated and will be removed in a future version.\n",
      "Instructions for updating:\n",
      "Use the retry module or similar alternatives.\n",
      "WARNING:tensorflow:From <ipython-input-3-d7b58a00bd39>:2: read_data_sets (from tensorflow.contrib.learn.python.learn.datasets.mnist) is deprecated and will be removed in a future version.\n",
      "Instructions for updating:\n",
      "Please use alternatives such as official/mnist/dataset.py from tensorflow/models.\n",
      "WARNING:tensorflow:From /Users/binxinru/anaconda3/lib/python3.6/site-packages/tensorflow/contrib/learn/python/learn/datasets/mnist.py:260: maybe_download (from tensorflow.contrib.learn.python.learn.datasets.base) is deprecated and will be removed in a future version.\n",
      "Instructions for updating:\n",
      "Please write your own downloading logic.\n",
      "WARNING:tensorflow:From /Users/binxinru/anaconda3/lib/python3.6/site-packages/tensorflow/contrib/learn/python/learn/datasets/mnist.py:262: extract_images (from tensorflow.contrib.learn.python.learn.datasets.mnist) is deprecated and will be removed in a future version.\n",
      "Instructions for updating:\n",
      "Please use tf.data to implement this functionality.\n",
      "Extracting tutorials/data/MNIST/train-images-idx3-ubyte.gz\n",
      "WARNING:tensorflow:From /Users/binxinru/anaconda3/lib/python3.6/site-packages/tensorflow/contrib/learn/python/learn/datasets/mnist.py:267: extract_labels (from tensorflow.contrib.learn.python.learn.datasets.mnist) is deprecated and will be removed in a future version.\n",
      "Instructions for updating:\n",
      "Please use tf.data to implement this functionality.\n",
      "Extracting tutorials/data/MNIST/train-labels-idx1-ubyte.gz\n",
      "WARNING:tensorflow:From /Users/binxinru/anaconda3/lib/python3.6/site-packages/tensorflow/contrib/learn/python/learn/datasets/mnist.py:110: dense_to_one_hot (from tensorflow.contrib.learn.python.learn.datasets.mnist) is deprecated and will be removed in a future version.\n",
      "Instructions for updating:\n",
      "Please use tf.one_hot on tensors.\n",
      "Extracting tutorials/data/MNIST/t10k-images-idx3-ubyte.gz\n",
      "Extracting tutorials/data/MNIST/t10k-labels-idx1-ubyte.gz\n",
      "WARNING:tensorflow:From /Users/binxinru/anaconda3/lib/python3.6/site-packages/tensorflow/contrib/learn/python/learn/datasets/mnist.py:290: DataSet.__init__ (from tensorflow.contrib.learn.python.learn.datasets.mnist) is deprecated and will be removed in a future version.\n",
      "Instructions for updating:\n",
      "Please use alternatives such as official/mnist/dataset.py from tensorflow/models.\n",
      "Extraction of images is complete.\n"
     ]
    }
   ],
   "source": [
    "from tensorflow.examples.tutorials.mnist import input_data\n",
    "mnist = input_data.read_data_sets(\"tutorials/data/MNIST/\", one_hot=True)\n",
    "print(\"Extraction of images is complete.\")"
   ]
  },
  {
   "cell_type": "markdown",
   "metadata": {},
   "source": [
    "## TensorFlow Placeholders\n",
    "Tensorflow placeholders are like variables waiting for input. They are access points to the computational graphs on which we can just feed into the graph."
   ]
  },
  {
   "cell_type": "code",
   "execution_count": 4,
   "metadata": {
    "collapsed": true
   },
   "outputs": [],
   "source": [
    "n_input  = 784\n",
    "n_output = 10\n",
    "X = tf.placeholder(tf.float32, [None, 784])\n",
    "# Concatenate all parameters \n",
    "parameters = tf.Variable(tf.concat([tf.truncated_normal([n_input * n_output,1]), tf.zeros([n_output, 1])],0))\n",
    "\n",
    "# Construct weight matrix and bias vector from parameters\n",
    "idx_from = 0 \n",
    "W = tf.reshape(tf.slice(parameters, begin=[idx_from, 0], size=[n_input*n_output, 1]), [n_input, n_output])\n",
    "idx_from = idx_from + n_input*n_output\n",
    "b = tf.reshape(tf.slice(parameters, begin=[idx_from, 0], size=[n_output, 1]), [n_output])\n",
    "\n",
    "# Placeholder for correct label which will help us to compute the accuracy and cross-entropy of our model.\n",
    "Y_true = tf.placeholder(tf.float32, [None, 10])"
   ]
  },
  {
   "cell_type": "markdown",
   "metadata": {},
   "source": [
    "## Model\n",
    "Our model is a Softmax Function applied over the weighted sum of the image pixels along with a bias added to it.\n",
    "$$\n",
    "Y = softmax(X.W + b)\n",
    "$$\n",
    "Where,<br/>\n",
    "X = flattened image vector (1, 784)<br/>\n",
    "W = Weights matrix of shape (784, 10) -> 784 weights for each pixel and 1 column for each class [0-9]<br/>\n",
    "b = bias vector with 10 columns, each column representing a class<br/>\n",
    "\n",
    "Since, we are using mini-batch technique. We will use X as a flattened image matrix with 100 rows, each row representing a flattened image."
   ]
  },
  {
   "cell_type": "code",
   "execution_count": 5,
   "metadata": {},
   "outputs": [],
   "source": [
    "Y = tf.nn.softmax(tf.matmul(X, W) + b)"
   ]
  },
  {
   "cell_type": "markdown",
   "metadata": {},
   "source": [
    "## Loss Function\n",
    "As discussed above we are using cross-entropy loss function\n",
    "$$\n",
    "Cross Entropy = -{\\sum_{i=1}^{i=n}Y_{i}^{'}.\\log(Y^i)}\n",
    "$$"
   ]
  },
  {
   "cell_type": "code",
   "execution_count": 6,
   "metadata": {
    "collapsed": true
   },
   "outputs": [],
   "source": [
    "cross_entropy = -tf.reduce_sum(Y_true * tf.log(Y))"
   ]
  },
  {
   "cell_type": "markdown",
   "metadata": {},
   "source": [
    "## % of correct answers found in batch\n",
    "Graph nodes to compute the accuracy of our model"
   ]
  },
  {
   "cell_type": "code",
   "execution_count": 7,
   "metadata": {
    "collapsed": true
   },
   "outputs": [],
   "source": [
    "is_correct = tf.equal(tf.argmax(Y_true, 1), tf.argmax(Y, 1))\n",
    "accuracy = tf.reduce_mean(tf.cast(is_correct, tf.float32))"
   ]
  },
  {
   "cell_type": "markdown",
   "metadata": {},
   "source": [
    "## Optimizer\n",
    "We are using the simplest Gradient Descent technique as an optimizer, with a learning rate of 0.003. This means we will be adding the 0.3% value of our gradient to the weights everytime. \n",
    "\n",
    "## Hessian computation\n",
    "H = $\\bigtriangledown (\\bigtriangledown Cross Entropy )$"
   ]
  },
  {
   "cell_type": "code",
   "execution_count": 8,
   "metadata": {
    "collapsed": true
   },
   "outputs": [],
   "source": [
    "# Optimizer \n",
    "optimizer = tf.train.GradientDescentOptimizer(0.003)\n",
    "train_step = optimizer.minimize(cross_entropy)\n",
    "\n",
    "# Hessian computation \n",
    "grad_step =   tf.gradients(cross_entropy,parameters)[0]\n",
    "hess       = jacobian(grad_step, parameters)\n"
   ]
  },
  {
   "cell_type": "markdown",
   "metadata": {},
   "source": [
    "## Training\n",
    "Time to train the system. We run 2000 iterations on the train step and compute the accuracy and cross-entropy on each step. Compute the Hessian every k iterations "
   ]
  },
  {
   "cell_type": "code",
   "execution_count": 10,
   "metadata": {},
   "outputs": [
    {
     "name": "stdout",
     "output_type": "stream",
     "text": [
      "save accuracy results\n",
      "compute hessian matrix \n",
      "Hessan matrix saved\n",
      "save accuracy results\n",
      "save accuracy results\n",
      "save accuracy results\n",
      "save accuracy results\n",
      "save accuracy results\n",
      "save accuracy results\n",
      "save accuracy results\n",
      "save accuracy results\n",
      "save accuracy results\n",
      "save accuracy results\n",
      "save accuracy results\n",
      "save accuracy results\n",
      "save accuracy results\n",
      "save accuracy results\n",
      "save accuracy results\n",
      "save accuracy results\n",
      "save accuracy results\n",
      "save accuracy results\n",
      "save accuracy results\n",
      "save accuracy results\n",
      "save accuracy results\n",
      "save accuracy results\n",
      "save accuracy results\n",
      "save accuracy results\n",
      "save accuracy results\n",
      "save accuracy results\n",
      "save accuracy results\n",
      "save accuracy results\n",
      "save accuracy results\n",
      "save accuracy results\n",
      "save accuracy results\n",
      "save accuracy results\n",
      "save accuracy results\n",
      "save accuracy results\n",
      "save accuracy results\n",
      "save accuracy results\n",
      "save accuracy results\n",
      "save accuracy results\n",
      "save accuracy results\n",
      "save accuracy results\n",
      "save accuracy results\n",
      "save accuracy results\n",
      "save accuracy results\n",
      "save accuracy results\n",
      "save accuracy results\n",
      "save accuracy results\n",
      "save accuracy results\n",
      "save accuracy results\n",
      "save accuracy results\n",
      "save accuracy results\n",
      "save accuracy results\n",
      "save accuracy results\n",
      "save accuracy results\n",
      "save accuracy results\n",
      "save accuracy results\n",
      "save accuracy results\n",
      "save accuracy results\n",
      "save accuracy results\n",
      "save accuracy results\n",
      "save accuracy results\n",
      "save accuracy results\n",
      "save accuracy results\n",
      "save accuracy results\n",
      "save accuracy results\n",
      "save accuracy results\n",
      "save accuracy results\n",
      "save accuracy results\n",
      "save accuracy results\n",
      "save accuracy results\n",
      "save accuracy results\n",
      "save accuracy results\n",
      "save accuracy results\n",
      "save accuracy results\n",
      "save accuracy results\n",
      "save accuracy results\n",
      "save accuracy results\n",
      "save accuracy results\n",
      "save accuracy results\n",
      "save accuracy results\n",
      "save accuracy results\n",
      "save accuracy results\n",
      "save accuracy results\n",
      "save accuracy results\n",
      "save accuracy results\n",
      "save accuracy results\n",
      "save accuracy results\n",
      "save accuracy results\n",
      "save accuracy results\n",
      "save accuracy results\n",
      "save accuracy results\n",
      "save accuracy results\n",
      "save accuracy results\n",
      "save accuracy results\n",
      "save accuracy results\n",
      "save accuracy results\n",
      "save accuracy results\n",
      "save accuracy results\n",
      "save accuracy results\n",
      "save accuracy results\n",
      "save accuracy results\n",
      "compute hessian matrix \n",
      "Hessan matrix saved\n",
      "save accuracy results\n",
      "save accuracy results\n",
      "save accuracy results\n",
      "save accuracy results\n",
      "save accuracy results\n",
      "save accuracy results\n",
      "save accuracy results\n",
      "save accuracy results\n",
      "save accuracy results\n",
      "save accuracy results\n",
      "save accuracy results\n",
      "save accuracy results\n",
      "save accuracy results\n",
      "save accuracy results\n",
      "save accuracy results\n",
      "save accuracy results\n",
      "save accuracy results\n",
      "save accuracy results\n",
      "save accuracy results\n",
      "save accuracy results\n",
      "save accuracy results\n",
      "save accuracy results\n",
      "save accuracy results\n",
      "save accuracy results\n",
      "save accuracy results\n",
      "save accuracy results\n",
      "save accuracy results\n",
      "save accuracy results\n",
      "save accuracy results\n",
      "save accuracy results\n",
      "save accuracy results\n",
      "save accuracy results\n",
      "save accuracy results\n",
      "save accuracy results\n",
      "save accuracy results\n",
      "save accuracy results\n",
      "save accuracy results\n",
      "save accuracy results\n",
      "save accuracy results\n",
      "save accuracy results\n",
      "save accuracy results\n",
      "save accuracy results\n",
      "save accuracy results\n",
      "save accuracy results\n",
      "save accuracy results\n",
      "save accuracy results\n",
      "save accuracy results\n",
      "save accuracy results\n",
      "save accuracy results\n",
      "save accuracy results\n",
      "save accuracy results\n",
      "save accuracy results\n",
      "save accuracy results\n",
      "save accuracy results\n",
      "save accuracy results\n",
      "save accuracy results\n",
      "save accuracy results\n",
      "save accuracy results\n",
      "save accuracy results\n",
      "save accuracy results\n",
      "save accuracy results\n",
      "save accuracy results\n",
      "save accuracy results\n",
      "save accuracy results\n",
      "save accuracy results\n",
      "save accuracy results\n",
      "save accuracy results\n",
      "save accuracy results\n",
      "save accuracy results\n",
      "save accuracy results\n",
      "save accuracy results\n",
      "save accuracy results\n",
      "save accuracy results\n",
      "save accuracy results\n",
      "save accuracy results\n",
      "save accuracy results\n",
      "save accuracy results\n",
      "save accuracy results\n",
      "save accuracy results\n",
      "save accuracy results\n",
      "save accuracy results\n",
      "save accuracy results\n",
      "save accuracy results\n",
      "save accuracy results\n",
      "save accuracy results\n",
      "save accuracy results\n",
      "save accuracy results\n",
      "save accuracy results\n",
      "save accuracy results\n",
      "save accuracy results\n",
      "save accuracy results\n",
      "save accuracy results\n",
      "save accuracy results\n",
      "save accuracy results\n",
      "save accuracy results\n",
      "save accuracy results\n",
      "save accuracy results\n",
      "save accuracy results\n",
      "save accuracy results\n"
     ]
    }
   ],
   "source": [
    "# Session run\n",
    "sess = tf.Session()\n",
    "init = tf.global_variables_initializer()\n",
    "sess.run(init)\n",
    "# no. of iterations\n",
    "n_iter = 200\n",
    "\n",
    "# Hessian computation interval \n",
    "k = 100\n",
    "\n",
    "# test set\n",
    "test_data = {X: mnist.test.images, Y_true: mnist.test.labels}\n",
    "\n",
    "# lists to hold train accuracy and cross-entropy\n",
    "acc_train_li = []\n",
    "cross_train_li = []\n",
    "\n",
    "# lists to hold test accuracy and cross-entropy\n",
    "acc_test_li = []\n",
    "cross_test_li = []\n",
    "\n",
    "for i in range(n_iter):\n",
    "    # load batch of images and correct answer\n",
    "    bacth_X, batch_Y = mnist.train.next_batch(100)\n",
    "    train_data = {X: bacth_X, Y_true: batch_Y}\n",
    "    \n",
    "    # train\n",
    "    sess.run(train_step, feed_dict=train_data)\n",
    "    \n",
    "    # find accuracy and cross entropy on current data\n",
    "    a, c = sess.run([accuracy, cross_entropy], feed_dict=train_data)\n",
    "    acc_train_li.append(a)\n",
    "    cross_train_li.append(c)\n",
    "    \n",
    "    # find accuracy and cross entropy on test data\n",
    "    a, c = sess.run([accuracy, cross_entropy], feed_dict=test_data)\n",
    "    acc_test_li.append(a)\n",
    "    cross_test_li.append(c)\n",
    "    \n",
    "    # Save accuracy and cross entropy data \n",
    "    print(\"save accuracy results\")\n",
    "    np.save('acc_train_li_softmax' ,acc_train_li)\n",
    "    np.save('cross_train_li_softmax' ,cross_train_li)\n",
    "    np.save('acc_test_li_softmax' ,acc_test_li)\n",
    "    np.save('cross_test_li_softmax' ,cross_test_li)\n",
    "    \n",
    "    # Hessian computation\n",
    "    if (i % k ==0):\n",
    "        # compute Hessian after every k iterations\n",
    "        print('compute hessian matrix ')\n",
    "        grad = sess.run(grad_step, feed_dict=train_data)\n",
    "        H = sess.run(hess, feed_dict=train_data)\n",
    "        # save Hessian computed \n",
    "        Hessian = np.squeeze(H)\n",
    "        filename = \"Hessian_softmax\" +str(i)\n",
    "        np.save(filename,Hessian)\n",
    "        print('Hessan matrix saved')\n",
    "    else:\n",
    "         pass"
   ]
  },
  {
   "cell_type": "markdown",
   "metadata": {},
   "source": [
    "## Check Hessian\n",
    "Hessian should have size 7850 x 7850 because:  \n",
    " 1. $W$ matrix has size 784x10  >  7840 weights\n",
    " 2. $b$ vector has size 10x1  >  10 bias \n",
    " 3. $Parameter$ vector has size 7850  >  All 7850 parameters"
   ]
  },
  {
   "cell_type": "code",
   "execution_count": 17,
   "metadata": {},
   "outputs": [
    {
     "name": "stdout",
     "output_type": "stream",
     "text": [
      "Hessian shape = (7850, 7850)\n",
      "Hessian eigvalues\n",
      "[[ 0.          0.          0.         ...  0.          0.\n",
      "   0.        ]\n",
      " [ 0.          0.          0.         ...  0.          0.\n",
      "   0.        ]\n",
      " [ 0.          0.          0.         ...  0.          0.\n",
      "   0.        ]\n",
      " ...\n",
      " [ 0.          0.          0.         ...  1.3928221  -0.3910387\n",
      "  -0.5267397 ]\n",
      " [ 0.          0.          0.         ... -0.3910387   3.3268073\n",
      "  -0.33039576]\n",
      " [ 0.          0.          0.         ... -0.5267397  -0.33039576\n",
      "   2.2826614 ]]\n"
     ]
    }
   ],
   "source": [
    "# Check shape\n",
    "print(\"Hessian shape = \" + str(Hessian.shape))\n",
    "\n",
    "# Check Hessian\n",
    "print(Hessian)\n",
    "\n",
    "# Check eigvalues\n",
    "# H_eigvalue = np.linalg.eigh(H2)\n",
    "H_eigvalue = sp.sparse.linalg.eigsh(Hessian,7849)\n",
    "print(\"Hessian eigvalues\")\n",
    "print(H_eigvalue)"
   ]
  },
  {
   "cell_type": "markdown",
   "metadata": {},
   "source": [
    "## Plot the graph\n",
    "We plot 2 graphs:\n",
    "1. Accuracy graph - To display the accuracy on the train data and test data\n",
    "2. Cross-entropy graph - To display the cross-entropy loss on train and test data"
   ]
  },
  {
   "cell_type": "code",
   "execution_count": 18,
   "metadata": {},
   "outputs": [
    {
     "data": {
      "image/png": "[encoded data removed]",
      "text/plain": [
       "<matplotlib.figure.Figure at 0x1c2aaa9fd0>"
      ]
     },
     "metadata": {},
     "output_type": "display_data"
    }
   ],
   "source": [
    "x = list(range(n_iter))\n",
    "\n",
    "blue_patch = mpatches.Patch(color='blue', label='Train Data')\n",
    "red_patch = mpatches.Patch(color='red', label='Test Data')\n",
    "\n",
    "plt.figure(0, figsize=(10, 12))\n",
    "\n",
    "plt.subplot(211)\n",
    "plt.title(\"Accuracy\")\n",
    "plt.legend(handles=[blue_patch, red_patch])\n",
    "plt.plot(x, acc_train_li, color='blue')\n",
    "plt.plot(x, acc_test_li, color='red')\n",
    "\n",
    "plt.subplot(212)\n",
    "plt.legend(handles=[blue_patch, red_patch])\n",
    "plt.title(\"Cross-Entropy Loss\")\n",
    "plt.plot(x, cross_train_li, color='blue')\n",
    "plt.plot(x, cross_test_li, color='red')\n",
    "\n",
    "plt.savefig(\"acc_loss.png\")\n",
    "\n",
    "plt.show()"
   ]
  },
  {
   "cell_type": "markdown",
   "metadata": {
    "collapsed": true
   },
   "source": [
    "## Final Loss and Accuracy\n",
    "Let's have a peek at the final loss and accuracy of the training and test sets"
   ]
  },
  {
   "cell_type": "code",
   "execution_count": 12,
   "metadata": {},
   "outputs": [
    {
     "name": "stdout",
     "output_type": "stream",
     "text": [
      "Train Set Accuracy: 0.7699999809265137 \t Train Set cross-entropy Loss: 116.37315368652344\n",
      "Test Set Accuracy: 0.7865999937057495 \t Test Set cross-entropy Loss: 9628.29296875\n"
     ]
    }
   ],
   "source": [
    "print('Train Set Accuracy: {} \\t Train Set cross-entropy Loss: {}'.format(acc_train_li[-1], cross_train_li[-1]))\n",
    "print('Test Set Accuracy: {} \\t Test Set cross-entropy Loss: {}'.format(acc_test_li[-1], cross_test_li[-1]))"
   ]
  }
 ],
 "metadata": {
  "kernelspec": {
   "display_name": "Python 3",
   "language": "python",
   "name": "python3"
  },
  "language_info": {
   "codemirror_mode": {
    "name": "ipython",
    "version": 3
   },
   "file_extension": ".py",
   "mimetype": "text/x-python",
   "name": "python",
   "nbconvert_exporter": "python",
   "pygments_lexer": "ipython3",
   "version": "3.6.3"
  }
 },
 "nbformat": 4,
 "nbformat_minor": 2
}
